{
 "cells": [
  {
   "cell_type": "markdown",
   "id": "4391f555",
   "metadata": {},
   "source": [
    "## Generating n home listings "
   ]
  },
  {
   "cell_type": "code",
   "execution_count": 3,
   "id": "e2752ffb",
   "metadata": {},
   "outputs": [],
   "source": [
    "from pathlib import Path\n",
    "import json, time\n",
    "from typing import List\n",
    "import json, time\n",
    "from langchain_groq import ChatGroq\n",
    "from langchain.prompts import PromptTemplate\n",
    "from pydantic import BaseModel, Field"
   ]
  },
  {
   "cell_type": "code",
   "execution_count": 2,
   "id": "a8df92d2",
   "metadata": {},
   "outputs": [],
   "source": [
    "import os\n",
    "from dotenv import load_dotenv\n",
    "load_dotenv() #load all the env variables\n",
    "\n",
    "os.environ[\"GROQ_API_KEY\"] = os.getenv(\"GROQ_API_KEY\")"
   ]
  },
  {
   "cell_type": "code",
   "execution_count": 12,
   "id": "6b76eea2",
   "metadata": {},
   "outputs": [
    {
     "data": {
      "text/plain": [
       "AIMessage(content='Hello! 👋 \\n\\nHow can I help you today? 😊\\n', additional_kwargs={}, response_metadata={'token_usage': {'completion_tokens': 16, 'prompt_tokens': 11, 'total_tokens': 27, 'completion_time': 0.029090909, 'prompt_time': 0.001873167, 'queue_time': 0.15790933199999999, 'total_time': 0.030964076}, 'model_name': 'gemma2-9b-it', 'system_fingerprint': 'fp_10c08bf97d', 'finish_reason': 'stop', 'logprobs': None}, id='run--f73404c3-d170-404b-b323-232b5a698924-0', usage_metadata={'input_tokens': 11, 'output_tokens': 16, 'total_tokens': 27})"
      ]
     },
     "execution_count": 12,
     "metadata": {},
     "output_type": "execute_result"
    }
   ],
   "source": [
    "# --- 1. model --------------------------------------------------------------\n",
    "llm_groq = ChatGroq(\n",
    "    model_name=\"gemma2-9b-it\",  # or another Groq model\n",
    "    temperature=0.8,\n",
    "    max_tokens=512   # plenty for one JSON listing\n",
    ")\n",
    "\n",
    "llm_groq.invoke(\"Hello\")"
   ]
  },
  {
   "cell_type": "code",
   "execution_count": 13,
   "id": "d1c605b8",
   "metadata": {},
   "outputs": [],
   "source": [
    "#defining a Pydantic outputparser to format the llm output\n",
    "class Listing(BaseModel):\n",
    "    neighborhood: str = Field(..., description=\"Name of the neighborhood\")\n",
    "    price: int = Field(..., description=\"Listing price in whole US dollars\")\n",
    "    bedrooms: int = Field(..., description=\"Number of bedrooms (1-6)\")\n",
    "    bathrooms: int = Field(..., description=\"Number of bathrooms (1-4)\")\n",
    "    house_size: str = Field(..., description='Living area, e.g. \"2150 sqft\"')\n",
    "    description: str = Field(\n",
    "        ..., description=\"5–6 engaging sentences describing the property\"\n",
    "    )\n",
    "    neighborhood_description: str = Field(\n",
    "        ..., description=\"3–4 sentences describing the neighborhood\"\n",
    "    )\n",
    "#defining the parser\n",
    "#parser = PydanticOutputParser(pydantic_object=Listing)\n",
    "\n",
    "#binding the llm with the paser\n",
    "listing_llm = llm_groq.with_structured_output(Listing)"
   ]
  },
  {
   "cell_type": "code",
   "execution_count": 17,
   "id": "8a962a2c",
   "metadata": {},
   "outputs": [],
   "source": [
    "# designing a Prompt template (the parser adds format instructions automatically)\n",
    "prompt = PromptTemplate(\n",
    "    template=(\n",
    "        \"You are an expert real-estate copywriter.\\n\\n\"\n",
    "        \"Generate a **fictional but realistic** property listing that follows this brief:\\n\"\n",
    "        \"• Each call must describe a different neighborhood.\\n\"\n",
    "        \"• Keep data plausible and coherent.\\n\\n\"\n",
    "    ),\n",
    ")"
   ]
  },
  {
   "cell_type": "code",
   "execution_count": 18,
   "id": "c9e7913c",
   "metadata": {},
   "outputs": [
    {
     "name": "stdout",
     "output_type": "stream",
     "text": [
      "neighborhood='Willow Creek' price=525000 bedrooms=4 bathrooms=3 house_size='2500 sqft' description='This stunning 4-bedroom, 3-bathroom home in the heart of Willow Creek offers a blend of modern comfort and timeless charm. With its spacious living areas, gourmet kitchen, and private backyard oasis, this home is perfect for families looking for space and tranquility.' neighborhood_description='Willow Creek is a vibrant and family-friendly neighborhood known for its excellent schools, peaceful parks, and charming downtown area.  Residents enjoy a strong sense of community and easy access to shopping, dining, and entertainment.'\n"
     ]
    }
   ],
   "source": [
    "# Example LLM chain\n",
    "chain = prompt | listing_llm  \n",
    "\n",
    "# Generate one listing\n",
    "listing = chain.invoke({})\n",
    "print(listing)"
   ]
  },
  {
   "cell_type": "code",
   "execution_count": 19,
   "id": "a7c2b1f1",
   "metadata": {},
   "outputs": [],
   "source": [
    "# ---------------------------------------------------------------------\n",
    "# Generate N listings with retry / pacing\n",
    "# ---------------------------------------------------------------------\n",
    "def generate_listings(\n",
    "    n: int,\n",
    "    chain,                     # the LangChain pipeline (prompt | llm | parser)\n",
    "    pause: float = 0.3,        # polite delay between calls in seconds\n",
    "    max_retries: int = 2,      # how many times to retry on an error\n",
    ") -> List[Listing]:\n",
    "    \"\"\"Generate *n* real-estate listings via the Groq chain.\"\"\"\n",
    "    \n",
    "    listings: List[Listing] = []\n",
    "    \n",
    "    for i in range(n):\n",
    "        attempts = 0\n",
    "        while attempts <= max_retries:\n",
    "            try:\n",
    "                listing = chain.invoke({})        # no inputs thanks to partial_variables\n",
    "                listings.append(listing)\n",
    "                break                            # success → exit retry loop\n",
    "            except Exception as e:\n",
    "                attempts += 1\n",
    "                if attempts > max_retries:\n",
    "                    print(f\"[{i}] failed after {max_retries} retries → {e}\")\n",
    "                else:\n",
    "                    print(f\"[{i}] error, retrying ({attempts}) → {e}\")\n",
    "                    time.sleep(pause)\n",
    "        time.sleep(pause)   # pacing to avoid rate limits\n",
    "    return listings"
   ]
  },
  {
   "cell_type": "code",
   "execution_count": 20,
   "id": "d4b3eb81",
   "metadata": {},
   "outputs": [
    {
     "name": "stdout",
     "output_type": "stream",
     "text": [
      "✅ Saved 50 listings → ./listings.json\n"
     ]
    },
    {
     "name": "stderr",
     "output_type": "stream",
     "text": [
      "/tmp/ipykernel_248131/1353327800.py:12: PydanticDeprecatedSince20: The `dict` method is deprecated; use `model_dump` instead. Deprecated in Pydantic V2.0 to be removed in V3.0. See Pydantic V2 Migration Guide at https://errors.pydantic.dev/2.11/migration/\n",
      "  json.dump([l.dict() for l in listings], fp, indent=2)\n"
     ]
    }
   ],
   "source": [
    "# ---------------------------------------------------------------------\n",
    "# Optional helper: save to JSON\n",
    "# ---------------------------------------------------------------------\n",
    "def save_listings(\n",
    "    listings: List[Listing],\n",
    "    path: str = \"./listings.json\",\n",
    "):\n",
    "    \"\"\"Serialize Listing objects to pretty-printed JSON.\"\"\"\n",
    "    \n",
    "    Path(path).parent.mkdir(parents=True, exist_ok=True)\n",
    "    with open(path, \"w\") as fp:\n",
    "        json.dump([l.dict() for l in listings], fp, indent=2)\n",
    "    print(f\"✅ Saved {len(listings)} listings → {path}\")\n",
    "\n",
    "data = generate_listings(50, chain)\n",
    "save_listings(data)"
   ]
  },
  {
   "cell_type": "code",
   "execution_count": 5,
   "id": "19a23ded",
   "metadata": {},
   "outputs": [
    {
     "data": {
      "text/plain": [
       "[{'neighborhood': 'Oakwood Estates',\n",
       "  'price': 650000,\n",
       "  'bedrooms': 4,\n",
       "  'bathrooms': 3,\n",
       "  'house_size': '2500 sqft',\n",
       "  'description': \"Welcome to your dream home! This beautifully renovated 4 bedroom, 3 bathroom residence offers modern elegance and spacious living. Enjoy the gourmet kitchen, perfect for entertaining, and relax in the tranquil master suite. The large backyard is an oasis, ideal for summer gatherings. Don't miss this opportunity to own a slice of paradise.\",\n",
       "  'neighborhood_description': 'Oakwood Estates is a peaceful and family-friendly community with tree-lined streets, top-rated schools, and convenient access to parks, shopping, and dining.  Enjoy a sense of community and a tranquil lifestyle in this beautiful neighborhood.'},\n",
       " {'neighborhood': 'Oakwood',\n",
       "  'price': 620000,\n",
       "  'bedrooms': 4,\n",
       "  'bathrooms': 3,\n",
       "  'house_size': '2500 sqft',\n",
       "  'description': 'This beautifully updated 4 bedroom, 3 bathroom home in Oakwood is move-in ready! The spacious living area features a fireplace and large windows, perfect for entertaining. The gourmet kitchen boasts stainless steel appliances and granite countertops. The master suite offers a private retreat with a walk-in closet and spa-like bathroom. Enjoy relaxing evenings on the private deck overlooking the large backyard. Oakwood is a desirable neighborhood with top-rated schools and convenient access to parks, shopping, and dining.',\n",
       "  'neighborhood_description': 'Oakwood is a charming neighborhood with tree-lined streets and a strong sense of community. Residents enjoy access to excellent schools, parks, and a variety of shopping and dining options. The neighborhood is conveniently located near major highways, making it easy to commute to downtown and other nearby areas.'},\n",
       " {'neighborhood': 'West Village',\n",
       "  'price': 2800000,\n",
       "  'bedrooms': 4,\n",
       "  'bathrooms': 3,\n",
       "  'house_size': '2500 sqft',\n",
       "  'description': 'This stunning 4-bedroom, 3-bathroom home is nestled in the heart of vibrant West Village, offering a unique blend of modern amenities and classic charm.  Step inside to discover an open-concept living space flooded with natural light, perfect for entertaining.  The gourmet kitchen boasts stainless steel appliances and sleek countertops, while the spacious bedrooms provide a peaceful retreat.  This prime location places you steps away from world-class dining, trendy boutiques, and lush green spaces.',\n",
       "  'neighborhood_description': \"The West Village is a historic and charming neighborhood known for its cobblestone streets, brownstone architecture, and vibrant arts scene.  It's a haven for foodies, with an array of acclaimed restaurants and cafes.  The neighborhood is also home to several parks, including the picturesque Washington Square Park.\"},\n",
       " {'neighborhood': 'Westwood',\n",
       "  'price': 850000,\n",
       "  'bedrooms': 4,\n",
       "  'bathrooms': 3,\n",
       "  'house_size': '2500 sqft',\n",
       "  'description': 'This charming 4-bedroom, 3-bathroom home offers a blend of modern comforts and classic elegance. The spacious open floor plan is perfect for entertaining, while the private backyard oasis provides a tranquil escape.  Enjoy brand-new appliances in the gourmet kitchen, and relax in the master suite complete with a spa-like bathroom. Located in a highly sought-after neighborhood with top-rated schools, this home is a true gem.',\n",
       "  'neighborhood_description': 'Nestled in the heart of the city, Westwood is a vibrant community known for its tree-lined streets, walkability, and award-winning restaurants.  Enjoy easy access to parks, shopping, and public transportation, making it an ideal location for families and professionals alike.'}]"
      ]
     },
     "execution_count": 5,
     "metadata": {},
     "output_type": "execute_result"
    }
   ],
   "source": [
    "#Load the listings\n",
    "# 2. -------------- Load listings.json -------------------------------------\n",
    "LISTING_FILE = \"./listings.json\"\n",
    "\n",
    "with open(LISTING_FILE, \"r\") as fp:\n",
    "    raw_listings = json.load(fp) \n",
    "\n",
    "raw_listings[0:4]"
   ]
  },
  {
   "cell_type": "code",
   "execution_count": null,
   "id": "325c3b42",
   "metadata": {},
   "outputs": [],
   "source": []
  }
 ],
 "metadata": {
  "kernelspec": {
   "display_name": ".venv",
   "language": "python",
   "name": "python3"
  },
  "language_info": {
   "codemirror_mode": {
    "name": "ipython",
    "version": 3
   },
   "file_extension": ".py",
   "mimetype": "text/x-python",
   "name": "python",
   "nbconvert_exporter": "python",
   "pygments_lexer": "ipython3",
   "version": "3.11.12"
  }
 },
 "nbformat": 4,
 "nbformat_minor": 5
}
