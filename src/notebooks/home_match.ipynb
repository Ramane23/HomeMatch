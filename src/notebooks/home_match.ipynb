{
 "cells": [
  {
   "cell_type": "markdown",
   "id": "4391f555",
   "metadata": {},
   "source": [
    "## HomeMatch App"
   ]
  },
  {
   "cell_type": "code",
   "execution_count": 1,
   "id": "e2752ffb",
   "metadata": {},
   "outputs": [],
   "source": [
    "from pathlib import Path\n",
    "import json, os, time\n",
    "from typing import List\n",
    "import json, time\n",
    "from langchain_groq import ChatGroq\n",
    "from langchain.prompts import PromptTemplate\n",
    "from langchain.prompts import ChatPromptTemplate\n",
    "from langchain.chains import LLMChain\n",
    "from pydantic import BaseModel, Field\n",
    "from langchain.output_parsers import PydanticOutputParser\n",
    "from langchain.embeddings import HuggingFaceEmbeddings\n",
    "from langchain.prompts import ChatPromptTemplate, MessagesPlaceholder\n",
    "from langchain.schema.runnable import RunnablePassthrough, RunnableLambda\n",
    "from langchain.schema.output_parser import StrOutputParser\n",
    "from langchain_core.runnables.history import RunnableWithMessageHistory\n",
    "from langchain_community.chat_message_histories import ChatMessageHistory"
   ]
  },
  {
   "cell_type": "code",
   "execution_count": 2,
   "id": "a8df92d2",
   "metadata": {},
   "outputs": [],
   "source": [
    "import os\n",
    "from dotenv import load_dotenv\n",
    "load_dotenv() #load all the env variables\n",
    "\n",
    "os.environ[\"GROQ_API_KEY\"] = os.getenv(\"GROQ_API_KEY\")"
   ]
  },
  {
   "cell_type": "code",
   "execution_count": 4,
   "id": "6b76eea2",
   "metadata": {},
   "outputs": [
    {
     "data": {
      "text/plain": [
       "AIMessage(content='Hello! 👋  How can I help you today? 😊\\n', additional_kwargs={}, response_metadata={'token_usage': {'completion_tokens': 15, 'prompt_tokens': 11, 'total_tokens': 26, 'completion_time': 0.027272727, 'prompt_time': 0.0019656, 'queue_time': 0.16043023499999998, 'total_time': 0.029238327}, 'model_name': 'gemma2-9b-it', 'system_fingerprint': 'fp_10c08bf97d', 'finish_reason': 'stop', 'logprobs': None}, id='run--5c61af66-5a75-4579-818d-93c465c3b3b4-0', usage_metadata={'input_tokens': 11, 'output_tokens': 15, 'total_tokens': 26})"
      ]
     },
     "execution_count": 4,
     "metadata": {},
     "output_type": "execute_result"
    }
   ],
   "source": [
    "# --- 1. model --------------------------------------------------------------\n",
    "llm_groq = ChatGroq(\n",
    "    model_name=\"gemma2-9b-it\",  # or another Groq model\n",
    "    temperature=0.8,\n",
    "    max_tokens=512   # plenty for one JSON listing\n",
    ")\n",
    "\n",
    "llm_groq.invoke(\"Hello\")"
   ]
  },
  {
   "cell_type": "code",
   "execution_count": 6,
   "id": "d1c605b8",
   "metadata": {},
   "outputs": [
    {
     "data": {
      "text/plain": [
       "{'neighborhood': 'Oakwood Estates',\n",
       " 'price': 650000,\n",
       " 'bedrooms': 4,\n",
       " 'bathrooms': 3,\n",
       " 'house_size': '2500 sqft',\n",
       " 'description': \"Welcome to your dream home! This beautifully renovated 4 bedroom, 3 bathroom residence offers modern elegance and spacious living. Enjoy the gourmet kitchen, perfect for entertaining, and relax in the tranquil master suite. The large backyard is an oasis, ideal for summer gatherings. Don't miss this opportunity to own a slice of paradise.\",\n",
       " 'neighborhood_description': 'Oakwood Estates is a peaceful and family-friendly community with tree-lined streets, top-rated schools, and convenient access to parks, shopping, and dining.  Enjoy a sense of community and a tranquil lifestyle in this beautiful neighborhood.'}"
      ]
     },
     "execution_count": 6,
     "metadata": {},
     "output_type": "execute_result"
    }
   ],
   "source": [
    "#Load the listings\n",
    "# 2. -------------- Load listings.json -------------------------------------\n",
    "LISTING_FILE = \"./listings.json\"\n",
    "\n",
    "with open(LISTING_FILE, \"r\") as fp:\n",
    "    raw_listings = json.load(fp) \n",
    "\n",
    "raw_listings[0]"
   ]
  },
  {
   "cell_type": "code",
   "execution_count": 7,
   "id": "8a962a2c",
   "metadata": {},
   "outputs": [
    {
     "name": "stderr",
     "output_type": "stream",
     "text": [
      "/tmp/ipykernel_247447/99795489.py:2: LangChainDeprecationWarning: The class `HuggingFaceEmbeddings` was deprecated in LangChain 0.2.2 and will be removed in 1.0. An updated version of the class exists in the :class:`~langchain-huggingface package and should be used instead. To use it run `pip install -U :class:`~langchain-huggingface` and import as `from :class:`~langchain_huggingface import HuggingFaceEmbeddings``.\n",
      "  embedding_model = HuggingFaceEmbeddings(\n",
      "/mnt/d/HomeMatch/.venv/lib/python3.11/site-packages/tqdm/auto.py:21: TqdmWarning: IProgress not found. Please update jupyter and ipywidgets. See https://ipywidgets.readthedocs.io/en/stable/user_install.html\n",
      "  from .autonotebook import tqdm as notebook_tqdm\n"
     ]
    },
    {
     "data": {
      "text/plain": [
       "768"
      ]
     },
     "execution_count": 7,
     "metadata": {},
     "output_type": "execute_result"
    }
   ],
   "source": [
    "#Loading an embedding model from huggingface\n",
    "embedding_model = HuggingFaceEmbeddings(\n",
    "    model_name=\"BAAI/bge-base-en-v1.5\",\n",
    "    model_kwargs={\"device\": \"cpu\"}  # or \"cuda\" if GPU is available\n",
    ")\n",
    "embedding = embedding_model.embed_query(\"I am looking for a wonderful house in a cozy neighboorhood\")\n",
    "len(embedding)"
   ]
  },
  {
   "cell_type": "code",
   "execution_count": null,
   "id": "c9e7913c",
   "metadata": {},
   "outputs": [
    {
     "name": "stdout",
     "output_type": "stream",
     "text": [
      "✅ Converted 50 listings to LangChain Documents\n",
      "💾 Stored & persisted to db/listings_chroma\n"
     ]
    },
    {
     "name": "stderr",
     "output_type": "stream",
     "text": [
      "/tmp/ipykernel_247447/2745746452.py:39: LangChainDeprecationWarning: Since Chroma 0.4.x the manual persistence method is no longer supported as docs are automatically persisted.\n",
      "  vector_store.persist()             # writes the DB files to disk\n"
     ]
    }
   ],
   "source": [
    "# -----------------------------------------\n",
    "# 1.  Transform raw_listings → Documents\n",
    "# -----------------------------------------\n",
    "from langchain.docstore.document import Document\n",
    "from langchain.vectorstores import Chroma\n",
    "import os, json\n",
    "\n",
    "docs: list[Document] = []\n",
    "\n",
    "for item in raw_listings:\n",
    "    # Combine the prose fields into the text that will be embedded\n",
    "    text_block = \"\\n\\n\".join(\n",
    "        [\n",
    "            item.get(\"description\", \"\").strip(),\n",
    "            item.get(\"neighborhood_description\", \"\").strip(),\n",
    "        ]\n",
    "    ).strip()\n",
    "\n",
    "    # Everything else becomes structured metadata for filtering/ranking later\n",
    "    metadata = {k: v for k, v in item.items() if k not in (\"description\", \"neighborhood_description\")}\n",
    "\n",
    "    docs.append(Document(page_content=text_block, metadata=metadata))\n",
    "\n",
    "print(f\"✅ Converted {len(docs)} listings to LangChain Documents\")\n",
    "\n",
    "# -----------------------------------------\n",
    "# 2.  Create (or reopen) the Chroma store\n",
    "# -----------------------------------------\n",
    "PERSIST_DIR = \"db/listings_chroma\"\n",
    "os.makedirs(PERSIST_DIR, exist_ok=True)\n",
    "\n",
    "vector_store = Chroma.from_documents(\n",
    "    documents=docs,\n",
    "    embedding=embedding_model,      \n",
    "    collection_name=\"listings\",\n",
    "    persist_directory=PERSIST_DIR,\n",
    ")\n",
    "\n",
    "vector_store.persist()             # writes the DB files to disk\n",
    "print(f\"💾 Stored & persisted to {PERSIST_DIR}\")"
   ]
  },
  {
   "cell_type": "code",
   "execution_count": 9,
   "id": "a7c2b1f1",
   "metadata": {},
   "outputs": [
    {
     "data": {
      "text/plain": [
       "[Document(metadata={'house_size': '2500 sqft', 'price': 525000, 'neighborhood': 'Parkview Estates', 'bathrooms': 3, 'bedrooms': 4}, page_content='This charming 4-bedroom, 3-bathroom home offers a spacious open floor plan perfect for entertaining.  The gourmet kitchen boasts stainless steel appliances and granite countertops. Enjoy relaxing evenings in the cozy living room with a fireplace. The master suite features a walk-in closet and private bath.  The backyard is an oasis with a deck and plenty of space for gardening.\\n\\nParkview Estates is a picturesque neighborhood known for its mature trees, winding streets, and friendly atmosphere. Residents enjoy easy access to parks, walking trails, and top-rated schools. This desirable location is also close to shopping, dining, and entertainment.'),\n",
       " Document(metadata={'price': 425000, 'bedrooms': 3, 'bathrooms': 2, 'house_size': '1800 sqft', 'neighborhood': 'Pleasant Valley'}, page_content='This charming 3-bedroom, 2-bathroom home offers a cozy and inviting atmosphere. Natural light floods through the spacious living room, perfect for relaxing evenings. The updated kitchen boasts modern appliances and ample counter space, ideal for culinary enthusiasts.  The backyard is an oasis of tranquility, perfect for outdoor entertaining. This home is conveniently located near parks, schools, and shopping, making it an ideal choice for families.\\n\\nNestled in the heart of the city, Pleasant Valley offers a blend of suburban charm and urban convenience.  Residents enjoy tree-lined streets, well-maintained parks, and a vibrant community atmosphere. With easy access to downtown attractions and major transportation routes, Pleasant Valley provides the perfect setting for a balanced lifestyle.'),\n",
       " Document(metadata={'price': 480000, 'bathrooms': 3, 'neighborhood': 'Oakwood', 'bedrooms': 4, 'house_size': '2500 sqft'}, page_content=\"This stunning 4-bedroom, 3-bathroom home offers the perfect blend of modern comfort and classic charm.  The spacious living room features a fireplace and gleaming hardwood floors, creating an inviting and cozy atmosphere. The gourmet kitchen is a chef's dream, boasting stainless steel appliances, granite countertops, and ample cabinet space. Retreat to the master suite, complete with a private bathroom and walk-in closet. Enjoy outdoor living in the beautifully landscaped backyard, perfect for entertaining or relaxing with loved ones.\\n\\nOakwood is a highly desirable neighborhood known for its tree-lined streets, charming homes, and excellent schools. Residents enjoy a sense of community and a convenient location close to parks, restaurants, and shops.\"),\n",
       " Document(metadata={'bathrooms': 3, 'bedrooms': 4, 'neighborhood': 'Oakwood', 'house_size': '2500 sqft', 'price': 600000}, page_content='This stunning 4-bedroom, 3-bathroom home boasts a spacious open floor plan, perfect for entertaining. The gourmet kitchen features stainless steel appliances and granite countertops. Enjoy relaxing evenings in the sun-drenched living room with a cozy fireplace. The master suite offers a private retreat with a luxurious bathroom.  Situated in a highly desirable neighborhood, this home is close to top-rated schools, parks, and shopping.\\n\\nOakwood is a charming, tree-lined neighborhood known for its friendly atmosphere and excellent schools. Residents enjoy easy access to downtown amenities while still appreciating the peace and tranquility of a suburban lifestyle.')]"
      ]
     },
     "execution_count": 9,
     "metadata": {},
     "output_type": "execute_result"
    }
   ],
   "source": [
    "# -------------------------------------------------\n",
    "# Create a retriever from the existing Chroma store\n",
    "# -------------------------------------------------\n",
    "retriever = vector_store.as_retriever(\n",
    "    search_kwargs={\n",
    "        \"k\": 4          # number of listings to return on each query (tweak as you like)\n",
    "        # you can also add a metadata filter later, e.g.:\n",
    "        # \"filter\": {\"bedrooms\": 3}\n",
    "    }\n",
    ")\n",
    "\n",
    "retriever.invoke(\"a nice house with 3 bedrooms, 3000 sqft in a cozy neighboorhood that does not cost more than 500000\")"
   ]
  },
  {
   "cell_type": "code",
   "execution_count": 10,
   "id": "7619cb0b",
   "metadata": {},
   "outputs": [],
   "source": [
    "from pydantic import BaseModel, Field\n",
    "from typing import Optional, List\n",
    "from langchain_core.runnables import RunnableLambda\n",
    "\n",
    "# Defining a pydantic output parser for our query cleaning LLM\n",
    "class BuyerPreferences(BaseModel):\n",
    "    bedrooms: Optional[int] = Field(None, description=\"Number of bedrooms\")\n",
    "    bathrooms: Optional[int] = Field(None, description=\"Number of bathrooms\")\n",
    "    house_size: Optional[str] = Field(None, description=\"Desired house size (e.g. '2000 sqft')\")\n",
    "    amenities: Optional[List[str]] = Field(None, description=\"Desired amenities (e.g. backyard, solar panels)\")\n",
    "    transportation: Optional[List[str]] = Field(None, description=\"Transportation preferences (e.g. bike paths, public transit)\")\n",
    "    neighborhood_traits: Optional[List[str]] = Field(None, description=\"Neighborhood qualities (e.g. quiet, walkable)\")\n",
    "    price_range: Optional[str] = Field(None, description=\"Approximate price range or budget\")\n",
    "    lifestyle: Optional[str] = Field(None, description=\"Lifestyle fit, e.g. remote work, family-friendly\")\n",
    "    query: str = Field(..., description=\"One concise summary sentence combining the above preferences, the summary should be optimize for similarity search in avector database\")\n",
    "\n",
    "# Define the parser\n",
    "#cleaning_parser = PydanticOutputParser(pydantic_object=BuyerPreferences)\n",
    "\n",
    "#wrap the function in a runnableLambda\n",
    "extract_query = RunnableLambda(lambda prefs: {\"input\" : prefs.query})\n",
    "\n",
    "# Bind the parser to the LLM\n",
    "cleaning_llm = llm_groq.with_structured_output(BuyerPreferences)"
   ]
  },
  {
   "cell_type": "code",
   "execution_count": 27,
   "id": "64b9cbbf",
   "metadata": {},
   "outputs": [
    {
     "data": {
      "text/plain": [
       "768"
      ]
     },
     "execution_count": 27,
     "metadata": {},
     "output_type": "execute_result"
    }
   ],
   "source": [
    "#Loading an embedding model from huggingface\n",
    "embedding_model = HuggingFaceEmbeddings(\n",
    "    model_name=\"BAAI/bge-base-en-v1.5\",\n",
    "    model_kwargs={\"device\": \"cpu\"}  # or \"cuda\" if GPU is available\n",
    ")\n",
    "embedding = embedding_model.embed_query(\"I am looking for a wonderful house in a cozy neighboorhood\")\n",
    "len(embedding)"
   ]
  },
  {
   "cell_type": "code",
   "execution_count": null,
   "id": "8a56ea3e",
   "metadata": {},
   "outputs": [],
   "source": [
    "#Load the listings\n",
    "# 2. -------------- Load listings.json -------------------------------------\n",
    "LISTING_FILE = \"./listings.json\"\n",
    "\n",
    "with open(LISTING_FILE, \"r\") as fp:\n",
    "    raw_listings = json.load(fp) "
   ]
  },
  {
   "cell_type": "code",
   "execution_count": 14,
   "id": "a3c27a6a",
   "metadata": {},
   "outputs": [
    {
     "data": {
      "text/plain": [
       "BuyerPreferences(bedrooms=3, bathrooms=3, house_size='3000 sqft', amenities=[], transportation=[], neighborhood_traits=['cozy'], price_range='500000', lifestyle=None, query='Looking for a cozy 3 bedroom, 3000 sqft house in a neighborhood that does not cost more than 500,000.')"
      ]
     },
     "execution_count": 14,
     "metadata": {},
     "output_type": "execute_result"
    }
   ],
   "source": [
    "from pydantic import BaseModel, Field\n",
    "from typing import Optional, List\n",
    "from langchain_core.runnables import RunnableLambda\n",
    "\n",
    "# Defining a pydantic output parser for our query cleaning LLM\n",
    "class BuyerPreferences(BaseModel):\n",
    "    bedrooms: Optional[int] = Field(None, description=\"Number of bedrooms\")\n",
    "    bathrooms: Optional[int] = Field(None, description=\"Number of bathrooms\")\n",
    "    house_size: Optional[str] = Field(None, description=\"Desired house size (e.g. '2000 sqft')\")\n",
    "    amenities: Optional[List[str]] = Field(None, description=\"Desired amenities (e.g. backyard, solar panels)\")\n",
    "    transportation: Optional[List[str]] = Field(None, description=\"Transportation preferences (e.g. bike paths, public transit)\")\n",
    "    neighborhood_traits: Optional[List[str]] = Field(None, description=\"Neighborhood qualities (e.g. quiet, walkable)\")\n",
    "    price_range: Optional[str] = Field(None, description=\"Approximate price range or budget\")\n",
    "    lifestyle: Optional[str] = Field(None, description=\"Lifestyle fit, e.g. remote work, family-friendly\")\n",
    "    query: str = Field(..., description=\"One concise summary sentence combining the above preferences, the summary should be optimize for similarity search in avector database\")\n",
    "\n",
    "# Define the parser\n",
    "#cleaning_parser = PydanticOutputParser(pydantic_object=BuyerPreferences)\n",
    "\n",
    "#wrap the function in a runnableLambda\n",
    "extract_query = RunnableLambda(lambda prefs: {\"input\" : prefs.query})\n",
    "\n",
    "# Bind the parser to the LLM\n",
    "cleaning_llm = llm_groq.with_structured_output(BuyerPreferences)\n",
    "\n",
    "cleaning_llm.invoke(\"a nice house with 3 bedrooms, 3000 sqft in a cozy neighboorhood that does not cost more than 500000\")\n"
   ]
  },
  {
   "cell_type": "code",
   "execution_count": 12,
   "id": "58f9bd09",
   "metadata": {},
   "outputs": [
    {
     "data": {
      "text/plain": [
       "ChatPromptValue(messages=[SystemMessage(content='You are a helpful assistant for a real estate matching app.\\n\\nYour task is to extract the buyer’s home preferences from natural language\\nand return them as a structured JSON object.\\n\\nReturn ONLY a valid JSON object matching the following fields:\\n\\n- bedrooms: integer (optional)\\n- bathrooms: integer (optional)\\n- house_size: string (e.g., \"2000 sqft\")\\n- amenities: array of strings (e.g., [\"backyard\", \"solar panels\"])\\n- transportation: array of strings (e.g., [\"bike paths\", “public transit”])\\n- neighborhood_traits: array of strings (e.g., [\"quiet\", \"family-friendly\"])\\n- price_range: string (e.g., \"under $500,000\")\\n- lifestyle: string (e.g., \"remote work\")\\n- summary: one clear sentence (< 40 words) summarizing all preferences\\n\\nIf the user doesn’t mention a field, set it to null or an empty list (for arrays).', additional_kwargs={}, response_metadata={}), HumanMessage(content='a nice house with 3 bedrooms, 3000 sqft in a cozy neighboorhood that does not cost more than 500000', additional_kwargs={}, response_metadata={})])"
      ]
     },
     "execution_count": 12,
     "metadata": {},
     "output_type": "execute_result"
    }
   ],
   "source": [
    "#Defining the system Prompt for the cleaning LLM\n",
    "system_prompt = \"\"\"\n",
    "You are a helpful assistant for a real estate matching app.\n",
    "\n",
    "Your task is to extract the buyer’s home preferences from natural language\n",
    "and return them as a structured JSON object.\n",
    "\n",
    "Return ONLY a valid JSON object matching the following fields:\n",
    "\n",
    "- bedrooms: integer (optional)\n",
    "- bathrooms: integer (optional)\n",
    "- house_size: string (e.g., \"2000 sqft\")\n",
    "- amenities: array of strings (e.g., [\"backyard\", \"solar panels\"])\n",
    "- transportation: array of strings (e.g., [\"bike paths\", “public transit”])\n",
    "- neighborhood_traits: array of strings (e.g., [\"quiet\", \"family-friendly\"])\n",
    "- price_range: string (e.g., \"under $500,000\")\n",
    "- lifestyle: string (e.g., \"remote work\")\n",
    "- summary: one clear sentence (< 40 words) summarizing all preferences\n",
    "\n",
    "If the user doesn’t mention a field, set it to null or an empty list (for arrays).\n",
    "\"\"\"\n",
    "\n",
    "query_cleaner_prompt = ChatPromptTemplate.from_messages([\n",
    "    (\"system\", system_prompt.strip()),\n",
    "    (\"human\", \"{raw_query}\")\n",
    "])\n",
    "query_cleaner_prompt.invoke({\"raw_query\":\"a nice house with 3 bedrooms, 3000 sqft in a cozy neighboorhood that does not cost more than 500000\"})"
   ]
  },
  {
   "cell_type": "code",
   "execution_count": 15,
   "id": "f93ee39a",
   "metadata": {},
   "outputs": [
    {
     "data": {
      "text/plain": [
       "{'input': 'modern 3-bedroom house around 2000 sqft with solar panels and a backyard in a quiet neighborhood near public transit for around $600k'}"
      ]
     },
     "execution_count": 15,
     "metadata": {},
     "output_type": "execute_result"
    }
   ],
   "source": [
    "#defining the user query cleaning chain\n",
    "query_cleaning_chain = query_cleaner_prompt | cleaning_llm | extract_query\n",
    "\n",
    "#testing the chain\n",
    "query_cleaning_chain.invoke(\n",
    "    {\"raw_query\": \"I'd like a modern 3-bedroom around 2000 sqft, solar panels, \"\n",
    "                  \"backyard, quiet neighborhood, near public transit. Budget about $600k.\"}\n",
    ")"
   ]
  },
  {
   "cell_type": "code",
   "execution_count": 16,
   "id": "a91aa92c",
   "metadata": {},
   "outputs": [],
   "source": [
    "#defining the rag prompt template\n",
    "rag_prompt = ChatPromptTemplate.from_messages([\n",
    "    (\"system\",\n",
    "     \"\"\"You are HomeMatch, an expert real-estate assistant helping buyers find ideal homes based on their preferences.\n",
    "\n",
    "You will be given:\n",
    "- A structured summary of the buyer's preferences (in natural language)\n",
    "- A set of real estate listings (retrieved for semantic similarity)\n",
    "\n",
    "Your task:\n",
    "- Recommend the top 3 listings that best align with the buyer's needs\n",
    "- Highlight the matching features in your explanation (e.g., size, amenities, location)\n",
    "- Be concise, persuasive, and grounded in the listings provided\n",
    "\n",
    "Only use information found in the listings. Do not invent properties or add extra features.\n",
    "\n",
    "\"Listings:\\n{context}\",\n",
    "\"\"\"\n",
    "),\n",
    "    (\"human\", \"{input}\"),\n",
    "])"
   ]
  },
  {
   "cell_type": "code",
   "execution_count": 17,
   "id": "e8380cbb",
   "metadata": {},
   "outputs": [],
   "source": [
    "from langchain.chains.combine_documents import create_stuff_documents_chain\n",
    "from langchain.chains import create_retrieval_chain\n",
    "\n",
    "# 1️⃣  combine the retrieved docs + prompt + model\n",
    "combine_docs_chain = create_stuff_documents_chain(\n",
    "    llm=llm_groq,\n",
    "    prompt=rag_prompt          \n",
    ")\n",
    "\n",
    "# 2️⃣  wire the retriever and the doc-combining chain together\n",
    "rag_chain = create_retrieval_chain(\n",
    "    retriever=retriever,\n",
    "    combine_docs_chain=combine_docs_chain\n",
    ")\n",
    "\n",
    "full_chain = (query_cleaning_chain | rag_chain)"
   ]
  },
  {
   "cell_type": "code",
   "execution_count": 18,
   "id": "eea40e52",
   "metadata": {},
   "outputs": [
    {
     "data": {
      "text/plain": [
       "{'input': 'looking for a modern 3-bedroom home around 2000 sqft with solar panels and a backyard in a quiet neighborhood near public transit, around $600k',\n",
       " 'context': [Document(metadata={'bedrooms': 3, 'house_size': '1800 sqft', 'bathrooms': 2, 'price': 425000, 'neighborhood': 'Pleasant Valley'}, page_content='This charming 3-bedroom, 2-bathroom home offers a cozy and inviting atmosphere. Natural light floods through the spacious living room, perfect for relaxing evenings. The updated kitchen boasts modern appliances and ample counter space, ideal for culinary enthusiasts.  The backyard is an oasis of tranquility, perfect for outdoor entertaining. This home is conveniently located near parks, schools, and shopping, making it an ideal choice for families.\\n\\nNestled in the heart of the city, Pleasant Valley offers a blend of suburban charm and urban convenience.  Residents enjoy tree-lined streets, well-maintained parks, and a vibrant community atmosphere. With easy access to downtown attractions and major transportation routes, Pleasant Valley provides the perfect setting for a balanced lifestyle.'),\n",
       "  Document(metadata={'bathrooms': 3, 'neighborhood': 'Westchester', 'price': 550000, 'bedrooms': 4, 'house_size': '2500 sqft'}, page_content='This charming 4-bedroom, 3-bathroom home boasts a spacious open floor plan perfect for entertaining. The modern kitchen features stainless steel appliances and ample counter space. Relax in the private backyard oasis, complete with a patio and lush landscaping. Located in a quiet cul-de-sac, this move-in ready home offers comfort and convenience.\\n\\nWestchester is a vibrant and family-friendly neighborhood known for its excellent schools, tree-lined streets, and access to parks and recreation. Residents enjoy a strong sense of community and a convenient location near shopping, dining, and entertainment options.'),\n",
       "  Document(metadata={'price': 550000, 'bedrooms': 4, 'house_size': '2500 sqft', 'bathrooms': 3, 'neighborhood': 'Westside'}, page_content=\"This charming 4-bedroom, 3-bathroom home is nestled in a quiet cul-de-sac in the heart of Westside.  Boasting a spacious open floor plan, modern kitchen with stainless steel appliances, and a large backyard perfect for entertaining.  Enjoy the convenience of nearby parks, schools, and shopping.  Don't miss this opportunity to own your dream home in a desirable neighborhood.\\n\\nWestside is a vibrant and family-friendly community known for its excellent schools, beautiful parks, and thriving local businesses. It offers a perfect blend of urban convenience and suburban charm.\"),\n",
       "  Document(metadata={'bedrooms': 4, 'house_size': '2500 sqft', 'neighborhood': 'Westwood', 'bathrooms': 3, 'price': 850000}, page_content='This charming 4-bedroom, 3-bathroom home offers a blend of modern comforts and classic elegance. The spacious open floor plan is perfect for entertaining, while the private backyard oasis provides a tranquil escape.  Enjoy brand-new appliances in the gourmet kitchen, and relax in the master suite complete with a spa-like bathroom. Located in a highly sought-after neighborhood with top-rated schools, this home is a true gem.\\n\\nNestled in the heart of the city, Westwood is a vibrant community known for its tree-lined streets, walkability, and award-winning restaurants.  Enjoy easy access to parks, shopping, and public transportation, making it an ideal location for families and professionals alike.')],\n",
       " 'answer': 'Based on your preferences, here are the top 3 listings that best align with your needs:\\n\\n1. **Charming 3-bedroom, 2-bathroom home:** This home checks many boxes! It has 3 bedrooms and boasts a spacious living room, perfect for a modern feel. While the listing doesn\\'t explicitly mention solar panels or the square footage, the \"cozy and inviting atmosphere\" suggests a comfortable living space, and the backyard is described as an \"oasis of tranquility\" – perfect for relaxation. Its convenient location near parks, schools, and shopping also aligns with your desire for a quiet neighborhood with access to amenities. \\n\\n2. **This charming 4-bedroom, 3-bathroom home:** Although it has 4 bedrooms, this home\\'s spacious open floor plan and modern kitchen with stainless steel appliances could easily accommodate your needs. The listing highlights a \"private backyard oasis,\" fulfilling your desire for outdoor space. Its location in a quiet cul-de-sac further emphasizes the peaceful neighborhood you\\'re looking for. \\n\\n3. **This charming 4-bedroom, 3-bathroom home in Westside:** This home offers a spacious open floor plan, a modern kitchen with stainless steel appliances, and a large backyard perfect for entertaining.  The listing also mentions the convenience of nearby parks, schools, and shopping, aligning with your preferences for a family-friendly neighborhood with access to amenities.\\n\\n\\n\\nIt\\'s important to note that the listings don\\'t explicitly mention solar panels or the exact square footage.  \\n'}"
      ]
     },
     "execution_count": 18,
     "metadata": {},
     "output_type": "execute_result"
    }
   ],
   "source": [
    "#invocation\n",
    "results = full_chain.invoke({\"raw_query\": \"I'd like a modern 3-bedroom around 2000 sqft, solar panels, \"\n",
    "                  \"backyard, quiet neighborhood, near public transit. Budget about $600k.\"})\n",
    "results"
   ]
  },
  {
   "cell_type": "code",
   "execution_count": 19,
   "id": "70bf53dd",
   "metadata": {},
   "outputs": [
    {
     "data": {
      "text/markdown": [
       "### 🏡 Top Matching Listings"
      ],
      "text/plain": [
       "<IPython.core.display.Markdown object>"
      ]
     },
     "metadata": {},
     "output_type": "display_data"
    },
    {
     "data": {
      "text/markdown": [
       "\n",
       "**Listing 1**\n",
       "- 📍 Neighborhood: `Pleasant Valley`\n",
       "- 🛏 Bedrooms: `3`\n",
       "- 🛁 Bathrooms: `2`\n",
       "- 📐 Size: `1800 sqft`\n",
       "- ☀️ Price: `$425,000`\n",
       "\n",
       "---\n"
      ],
      "text/plain": [
       "<IPython.core.display.Markdown object>"
      ]
     },
     "metadata": {},
     "output_type": "display_data"
    },
    {
     "data": {
      "text/markdown": [
       "\n",
       "**Listing 2**\n",
       "- 📍 Neighborhood: `Westchester`\n",
       "- 🛏 Bedrooms: `4`\n",
       "- 🛁 Bathrooms: `3`\n",
       "- 📐 Size: `2500 sqft`\n",
       "- ☀️ Price: `$550,000`\n",
       "\n",
       "---\n"
      ],
      "text/plain": [
       "<IPython.core.display.Markdown object>"
      ]
     },
     "metadata": {},
     "output_type": "display_data"
    },
    {
     "data": {
      "text/markdown": [
       "\n",
       "**Listing 3**\n",
       "- 📍 Neighborhood: `Westside`\n",
       "- 🛏 Bedrooms: `4`\n",
       "- 🛁 Bathrooms: `3`\n",
       "- 📐 Size: `2500 sqft`\n",
       "- ☀️ Price: `$550,000`\n",
       "\n",
       "---\n"
      ],
      "text/plain": [
       "<IPython.core.display.Markdown object>"
      ]
     },
     "metadata": {},
     "output_type": "display_data"
    },
    {
     "data": {
      "text/markdown": [
       "\n",
       "**Listing 4**\n",
       "- 📍 Neighborhood: `Westwood`\n",
       "- 🛏 Bedrooms: `4`\n",
       "- 🛁 Bathrooms: `3`\n",
       "- 📐 Size: `2500 sqft`\n",
       "- ☀️ Price: `$850,000`\n",
       "\n",
       "---\n"
      ],
      "text/plain": [
       "<IPython.core.display.Markdown object>"
      ]
     },
     "metadata": {},
     "output_type": "display_data"
    },
    {
     "data": {
      "text/markdown": [
       "### 🤖 AI Summary"
      ],
      "text/plain": [
       "<IPython.core.display.Markdown object>"
      ]
     },
     "metadata": {},
     "output_type": "display_data"
    },
    {
     "data": {
      "text/markdown": [
       "> Based on your preferences, here are the top 3 listings that best align with your needs:\n",
       "\n",
       "1. **Charming 3-bedroom, 2-bathroom home:** This home checks many boxes! It has 3 bedrooms and boasts a spacious living room, perfect for a modern feel. While the listing doesn't explicitly mention solar panels or the square footage, the \"cozy and inviting atmosphere\" suggests a comfortable living space, and the backyard is described as an \"oasis of tranquility\" – perfect for relaxation. Its convenient location near parks, schools, and shopping also aligns with your desire for a quiet neighborhood with access to amenities. \n",
       "\n",
       "2. **This charming 4-bedroom, 3-bathroom home:** Although it has 4 bedrooms, this home's spacious open floor plan and modern kitchen with stainless steel appliances could easily accommodate your needs. The listing highlights a \"private backyard oasis,\" fulfilling your desire for outdoor space. Its location in a quiet cul-de-sac further emphasizes the peaceful neighborhood you're looking for. \n",
       "\n",
       "3. **This charming 4-bedroom, 3-bathroom home in Westside:** This home offers a spacious open floor plan, a modern kitchen with stainless steel appliances, and a large backyard perfect for entertaining.  The listing also mentions the convenience of nearby parks, schools, and shopping, aligning with your preferences for a family-friendly neighborhood with access to amenities.\n",
       "\n",
       "\n",
       "\n",
       "It's important to note that the listings don't explicitly mention solar panels or the exact square footage.  \n"
      ],
      "text/plain": [
       "<IPython.core.display.Markdown object>"
      ]
     },
     "metadata": {},
     "output_type": "display_data"
    }
   ],
   "source": [
    "#nice display of the results\n",
    "from IPython.display import display, Markdown\n",
    "\n",
    "def render_results(results):\n",
    "    display(Markdown(\"### 🏡 Top Matching Listings\"))\n",
    "    \n",
    "    for i, doc in enumerate(results[\"context\"], start=1):\n",
    "        meta = doc.metadata\n",
    "        card = f\"\"\"\n",
    "**Listing {i}**\n",
    "- 📍 Neighborhood: `{meta.get('neighborhood', 'N/A')}`\n",
    "- 🛏 Bedrooms: `{meta.get('bedrooms', 'N/A')}`\n",
    "- 🛁 Bathrooms: `{meta.get('bathrooms', 'N/A')}`\n",
    "- 📐 Size: `{meta.get('house_size', 'N/A')}`\n",
    "- ☀️ Price: `${meta.get('price', 'N/A'):,}`\n",
    "\n",
    "---\n",
    "\"\"\"\n",
    "        display(Markdown(card))\n",
    "\n",
    "    display(Markdown(\"### 🤖 AI Summary\"))\n",
    "    display(Markdown(f\"> {results['answer']}\"))\n",
    "\n",
    "render_results(results)"
   ]
  },
  {
   "cell_type": "code",
   "execution_count": null,
   "id": "2d1171d6",
   "metadata": {},
   "outputs": [],
   "source": []
  }
 ],
 "metadata": {
  "kernelspec": {
   "display_name": ".venv",
   "language": "python",
   "name": "python3"
  },
  "language_info": {
   "codemirror_mode": {
    "name": "ipython",
    "version": 3
   },
   "file_extension": ".py",
   "mimetype": "text/x-python",
   "name": "python",
   "nbconvert_exporter": "python",
   "pygments_lexer": "ipython3",
   "version": "3.11.12"
  }
 },
 "nbformat": 4,
 "nbformat_minor": 5
}
