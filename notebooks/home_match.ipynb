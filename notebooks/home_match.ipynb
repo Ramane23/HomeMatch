{
 "cells": [
  {
   "cell_type": "markdown",
   "id": "4391f555",
   "metadata": {},
   "source": [
    "## HomeMatch App"
   ]
  },
  {
   "cell_type": "code",
   "execution_count": 53,
   "id": "e2752ffb",
   "metadata": {},
   "outputs": [],
   "source": [
    "from pathlib import Path\n",
    "import json, os, time\n",
    "from typing import List\n",
    "import json, time\n",
    "from langchain_groq import ChatGroq\n",
    "from langchain.prompts import PromptTemplate\n",
    "from langchain.prompts import ChatPromptTemplate\n",
    "from langchain.chains import LLMChain\n",
    "from pydantic import BaseModel, Field\n",
    "from langchain.output_parsers import PydanticOutputParser\n",
    "from langchain.embeddings import HuggingFaceEmbeddings\n",
    "from langchain.prompts import ChatPromptTemplate, MessagesPlaceholder\n",
    "from langchain.schema.runnable import RunnablePassthrough, RunnableLambda\n",
    "from langchain.schema.output_parser import StrOutputParser\n",
    "from langchain_core.runnables.history import RunnableWithMessageHistory\n",
    "from langchain_community.chat_message_histories import ChatMessageHistory\n"
   ]
  },
  {
   "cell_type": "code",
   "execution_count": 2,
   "id": "a8df92d2",
   "metadata": {},
   "outputs": [],
   "source": [
    "import os\n",
    "from dotenv import load_dotenv\n",
    "load_dotenv() #load all the env variables\n",
    "\n",
    "os.environ[\"GROQ_API_KEY\"] = os.getenv(\"GROQ_API_KEY\")"
   ]
  },
  {
   "cell_type": "code",
   "execution_count": 17,
   "id": "6b76eea2",
   "metadata": {},
   "outputs": [
    {
     "data": {
      "text/plain": [
       "AIMessage(content='Hello! How can I help you today? 😊\\n', additional_kwargs={}, response_metadata={'token_usage': {'completion_tokens': 13, 'prompt_tokens': 11, 'total_tokens': 24, 'completion_time': 0.023636364, 'prompt_time': 0.002073959, 'queue_time': 0.16197118800000002, 'total_time': 0.025710323}, 'model_name': 'gemma2-9b-it', 'system_fingerprint': 'fp_10c08bf97d', 'finish_reason': 'stop', 'logprobs': None}, id='run--a51854b8-6c96-4c7e-a7c9-6d8dd952d4ae-0', usage_metadata={'input_tokens': 11, 'output_tokens': 13, 'total_tokens': 24})"
      ]
     },
     "execution_count": 17,
     "metadata": {},
     "output_type": "execute_result"
    }
   ],
   "source": [
    "# --- 1. model --------------------------------------------------------------\n",
    "llm_groq = ChatGroq(\n",
    "    model_name=\"gemma2-9b-it\",  # or another Groq model\n",
    "    temperature=0.8,\n",
    "    max_tokens=512   # plenty for one JSON listing\n",
    ")\n",
    "\n",
    "llm_groq.invoke(\"Hello\")"
   ]
  },
  {
   "cell_type": "code",
   "execution_count": 7,
   "id": "33bd5485",
   "metadata": {},
   "outputs": [
    {
     "data": {
      "text/plain": [
       "{'neighborhood': 'Fairview',\n",
       " 'price': 425000,\n",
       " 'bedrooms': 4,\n",
       " 'bathrooms': 2,\n",
       " 'house_size': '2400 sqft',\n",
       " 'description': 'Nestled in the heart of Fairview, this charming craftsman-style home boasts a warm and inviting atmosphere. The open-concept living area features soaring ceilings, large windows, and a cozy gas fireplace. The sleek and modern kitchen is equipped with high-end appliances and ample storage. The expansive master suite includes a spacious walk-in closet and an en-suite bathroom with separate shower and tub. The fully fenced backyard is perfect for outdoor entertaining and features a covered patio, lush greenery, and a sparkling saltwater pool.',\n",
       " 'neighborhood_description': 'Fairview is a highly sought-after neighborhood known for its vibrant community, excellent schools, and convenient access to downtown. Residents enjoy a short walk to the local park, playground, and community center. The neighborhood is also close to several popular restaurants, shops, and entertainment venues.'}"
      ]
     },
     "execution_count": 7,
     "metadata": {},
     "output_type": "execute_result"
    }
   ],
   "source": [
    "#Load the listings\n",
    "# 2. -------------- Load listings.json -------------------------------------\n",
    "LISTING_FILE = \"./listings/listings.json\"\n",
    "\n",
    "with open(LISTING_FILE, \"r\") as fp:\n",
    "    raw_listings = json.load(fp) \n",
    "\n",
    "raw_listings[0]"
   ]
  },
  {
   "cell_type": "code",
   "execution_count": 8,
   "id": "64b9cbbf",
   "metadata": {},
   "outputs": [
    {
     "data": {
      "text/plain": [
       "768"
      ]
     },
     "execution_count": 8,
     "metadata": {},
     "output_type": "execute_result"
    }
   ],
   "source": [
    "#Loading an embedding model from huggingface\n",
    "embedding_model = HuggingFaceEmbeddings(\n",
    "    model_name=\"BAAI/bge-base-en-v1.5\",\n",
    "    model_kwargs={\"device\": \"cpu\"}  # or \"cuda\" if GPU is available\n",
    ")\n",
    "embedding = embedding_model.embed_query(\"I am looking for a wonderful house in a cozy neighboorhood\")\n",
    "len(embedding)"
   ]
  },
  {
   "cell_type": "code",
   "execution_count": 43,
   "id": "18f4a757",
   "metadata": {},
   "outputs": [
    {
     "name": "stdout",
     "output_type": "stream",
     "text": [
      "✅ Converted 48 listings to LangChain Documents\n",
      "💾 Stored & persisted to db/listings_chroma\n"
     ]
    },
    {
     "name": "stderr",
     "output_type": "stream",
     "text": [
      "/tmp/ipykernel_201241/1669217514.py:39: LangChainDeprecationWarning: Since Chroma 0.4.x the manual persistence method is no longer supported as docs are automatically persisted.\n",
      "  vector_store.persist()             # writes the DB files to disk\n"
     ]
    }
   ],
   "source": [
    "# -----------------------------------------\n",
    "# 1.  Transform raw_listings → Documents\n",
    "# -----------------------------------------\n",
    "from langchain.docstore.document import Document\n",
    "from langchain.vectorstores import Chroma\n",
    "import os, json\n",
    "\n",
    "docs: list[Document] = []\n",
    "\n",
    "for item in raw_listings:\n",
    "    # Combine the prose fields into the text that will be embedded\n",
    "    text_block = \"\\n\\n\".join(\n",
    "        [\n",
    "            item.get(\"description\", \"\").strip(),\n",
    "            item.get(\"neighborhood_description\", \"\").strip(),\n",
    "        ]\n",
    "    ).strip()\n",
    "\n",
    "    # Everything else becomes structured metadata for filtering/ranking later\n",
    "    metadata = {k: v for k, v in item.items() if k not in (\"description\", \"neighborhood_description\")}\n",
    "\n",
    "    docs.append(Document(page_content=text_block, metadata=metadata))\n",
    "\n",
    "print(f\"✅ Converted {len(docs)} listings to LangChain Documents\")\n",
    "\n",
    "# -----------------------------------------\n",
    "# 2.  Create (or reopen) the Chroma store\n",
    "# -----------------------------------------\n",
    "PERSIST_DIR = \"db/listings_chroma\"\n",
    "os.makedirs(PERSIST_DIR, exist_ok=True)\n",
    "\n",
    "vector_store = Chroma.from_documents(\n",
    "    documents=docs,\n",
    "    embedding=embedding_model,      # <-- you said this already exists\n",
    "    collection_name=\"listings\",\n",
    "    persist_directory=PERSIST_DIR,\n",
    ")\n",
    "\n",
    "vector_store.persist()             # writes the DB files to disk\n",
    "print(f\"💾 Stored & persisted to {PERSIST_DIR}\")\n"
   ]
  },
  {
   "cell_type": "code",
   "execution_count": 46,
   "id": "2c25bf96",
   "metadata": {},
   "outputs": [
    {
     "data": {
      "text/plain": [
       "[Document(metadata={'price': 425000, 'bathrooms': 3, 'house_size': '2700 sqft', 'neighborhood': 'Riverview', 'bedrooms': 4}, page_content=\"Welcome to this stunning 4-bedroom, 3-bathroom home located in the desirable Riverview neighborhood. As you step inside, you'll be greeted by the warm and inviting open floor plan, perfect for entertaining guests. The spacious living room features a gas fireplace and large windows that let in an abundance of natural light. The kitchen is equipped with high-end appliances and ample counter space for food preparation. The master bedroom boasts a vaulted ceiling, walk-in closet, and en-suite bathroom with separate shower and tub. The backyard is a tranquil oasis, complete with a private patio and mature trees.\\n\\nRiverview is a charming neighborhood with a mix of established homes and new developments. Residents enjoy easy access to the nearby riverfront, where they can stroll along the trails or enjoy a picnic. The neighborhood is also within walking distance to local shops and restaurants, making it the perfect blend of small-town charm and urban convenience.\"),\n",
       " Document(metadata={'house_size': '3500 sqft', 'price': 1250000, 'bathrooms': 3, 'neighborhood': 'Downtown Luxury', 'bedrooms': 4}, page_content=\"Welcome to this stunning, modern townhome located in the heart of Downtown Luxury. With its sleek, industrial-chic design, this property exudes sophistication and elegance. The open-concept living area is perfect for entertaining, with floor-to-ceiling windows offering breathtaking views of the city skyline. The gourmet kitchen features high-end appliances and ample counter space for food preparation. The master suite boasts a spa-like en-suite bathroom and a spacious walk-in closet. Two additional bedrooms and a bonus room offer ample space for relaxation and play. This property is a must-see for anyone looking to live in the epicenter of the city's vibrant cultural scene.\\n\\nDowntown Luxury is a vibrant and upscale neighborhood with a mix of old and new architecture. The area is known for its trendy restaurants, boutique shops, and lively nightlife. Residents enjoy easy access to public transportation, making it easy to explore the city without a car. The neighborhood also features several parks and green spaces, providing a peaceful escape from the hustle and bustle of city living.\"),\n",
       " Document(metadata={'price': 425000, 'bathrooms': 3, 'house_size': '2400 sqft', 'bedrooms': 4, 'neighborhood': 'Spring Creek'}, page_content=\"Welcome to this stunning 4-bedroom, 3-bathroom residence in the heart of Spring Creek! As you step inside, you'll be greeted by the warm and inviting open-concept living area, perfect for hosting family gatherings and friends. The gourmet kitchen features high-end appliances, ample counter space, and a breakfast nook. The expansive master suite boasts a spa-like en-suite bathroom and walk-in closet. Enjoy the tranquility of the backyard oasis, complete with a private patio and lush landscaping.\\n\\nSpring Creek is a highly sought-after neighborhood known for its picturesque parks, walking trails, and convenient access to top-rated schools. Residents also enjoy the community's tranquil atmosphere, scenic views, and proximity to local shops and restaurants.\"),\n",
       " Document(metadata={'price': 425000, 'neighborhood': 'Ravenna', 'bathrooms': 2, 'bedrooms': 3, 'house_size': '1900 sqft'}, page_content=\"Welcome to this charming 3 bedroom, 2 bathroom home in the desirable Ravenna neighborhood. As you step inside, you'll be greeted by the warm and inviting natural light that pours in through the large windows. The spacious living area is perfect for entertaining, with a cozy living room and separate dining area. The kitchen is equipped with stainless steel appliances and ample counter space. Upstairs, you'll find three generous bedrooms, including a master suite with a large walk-in closet. The backyard is a tranquil oasis, complete with a patio and lush greenery.\\n\\nRavenna is a vibrant and eclectic neighborhood with a rich history and a strong sense of community. Nestled between the trendy Ballard and Fremont neighborhoods, Ravenna offers a unique blend of small-town charm and urban convenience. Residents enjoy easy access to parks, shopping, and dining, as well as the iconic University Book Store and the Washington Park Arboretum.\")]"
      ]
     },
     "execution_count": 46,
     "metadata": {},
     "output_type": "execute_result"
    }
   ],
   "source": [
    "# -------------------------------------------------\n",
    "# Create a retriever from the existing Chroma store\n",
    "# -------------------------------------------------\n",
    "retriever = vector_store.as_retriever(\n",
    "    search_kwargs={\n",
    "        \"k\": 4          # number of listings to return on each query (tweak as you like)\n",
    "        # you can also add a metadata filter later, e.g.:\n",
    "        # \"filter\": {\"bedrooms\": 3}\n",
    "    }\n",
    ")\n",
    "\n",
    "retriever.invoke(\"a nice house with 3 bedrooms, 3000 sqft in a cozy neighboorhood that does not cost more than 500000\")"
   ]
  },
  {
   "cell_type": "code",
   "execution_count": 89,
   "id": "a3c27a6a",
   "metadata": {},
   "outputs": [],
   "source": [
    "from pydantic import BaseModel, Field\n",
    "from typing import Optional, List\n",
    "from langchain_core.runnables import RunnableLambda\n",
    "\n",
    "# Defining a pydantic output parser for our query cleaning LLM\n",
    "class BuyerPreferences(BaseModel):\n",
    "    bedrooms: Optional[int] = Field(None, description=\"Number of bedrooms\")\n",
    "    bathrooms: Optional[int] = Field(None, description=\"Number of bathrooms\")\n",
    "    house_size: Optional[str] = Field(None, description=\"Desired house size (e.g. '2000 sqft')\")\n",
    "    amenities: Optional[List[str]] = Field(None, description=\"Desired amenities (e.g. backyard, solar panels)\")\n",
    "    transportation: Optional[List[str]] = Field(None, description=\"Transportation preferences (e.g. bike paths, public transit)\")\n",
    "    neighborhood_traits: Optional[List[str]] = Field(None, description=\"Neighborhood qualities (e.g. quiet, walkable)\")\n",
    "    price_range: Optional[str] = Field(None, description=\"Approximate price range or budget\")\n",
    "    lifestyle: Optional[str] = Field(None, description=\"Lifestyle fit, e.g. remote work, family-friendly\")\n",
    "    query: str = Field(..., description=\"One concise summary sentence combining the above preferences, the summary should be optimize for similarity search in avector database\")\n",
    "\n",
    "# Define the parser\n",
    "cleaning_parser = PydanticOutputParser(pydantic_object=BuyerPreferences)\n",
    "\n",
    "#wrap the function in a runnableLambda\n",
    "extract_query = RunnableLambda(lambda prefs: {\"input\" : prefs.query})\n",
    "\n",
    "# Bind the parser to the LLM\n",
    "cleaning_llm = llm_groq.with_structured_output(BuyerPreferences)\n"
   ]
  },
  {
   "cell_type": "code",
   "execution_count": 90,
   "id": "e037a645",
   "metadata": {},
   "outputs": [
    {
     "data": {
      "text/plain": [
       "ChatPromptValue(messages=[SystemMessage(content='You are a helpful assistant for a real estate matching app.\\n\\nYour task is to extract the buyer’s home preferences from natural language\\nand return them as a structured JSON object.\\n\\nReturn ONLY a valid JSON object matching the following fields:\\n\\n- bedrooms: integer (optional)\\n- bathrooms: integer (optional)\\n- house_size: string (e.g., \"2000 sqft\")\\n- amenities: array of strings (e.g., [\"backyard\", \"solar panels\"])\\n- transportation: array of strings (e.g., [\"bike paths\", “public transit”])\\n- neighborhood_traits: array of strings (e.g., [\"quiet\", \"family-friendly\"])\\n- price_range: string (e.g., \"under $500,000\")\\n- lifestyle: string (e.g., \"remote work\")\\n- summary: one clear sentence (< 40 words) summarizing all preferences\\n\\nIf the user doesn’t mention a field, set it to null or an empty list (for arrays).', additional_kwargs={}, response_metadata={}), HumanMessage(content='a nice house with 3 bedrooms, 3000 sqft in a cozy neighboorhood that does not cost more than 500000', additional_kwargs={}, response_metadata={})])"
      ]
     },
     "execution_count": 90,
     "metadata": {},
     "output_type": "execute_result"
    }
   ],
   "source": [
    "#Defining the system Prompt for the cleaning LLM\n",
    "system_prompt = \"\"\"\n",
    "You are a helpful assistant for a real estate matching app.\n",
    "\n",
    "Your task is to extract the buyer’s home preferences from natural language\n",
    "and return them as a structured JSON object.\n",
    "\n",
    "Return ONLY a valid JSON object matching the following fields:\n",
    "\n",
    "- bedrooms: integer (optional)\n",
    "- bathrooms: integer (optional)\n",
    "- house_size: string (e.g., \"2000 sqft\")\n",
    "- amenities: array of strings (e.g., [\"backyard\", \"solar panels\"])\n",
    "- transportation: array of strings (e.g., [\"bike paths\", “public transit”])\n",
    "- neighborhood_traits: array of strings (e.g., [\"quiet\", \"family-friendly\"])\n",
    "- price_range: string (e.g., \"under $500,000\")\n",
    "- lifestyle: string (e.g., \"remote work\")\n",
    "- summary: one clear sentence (< 40 words) summarizing all preferences\n",
    "\n",
    "If the user doesn’t mention a field, set it to null or an empty list (for arrays).\n",
    "\"\"\"\n",
    "\n",
    "query_cleaner_prompt = ChatPromptTemplate.from_messages([\n",
    "    (\"system\", system_prompt.strip()),\n",
    "    (\"human\", \"{raw_query}\")\n",
    "])\n",
    "query_cleaner_prompt.invoke({\"raw_query\":\"a nice house with 3 bedrooms, 3000 sqft in a cozy neighboorhood that does not cost more than 500000\"})"
   ]
  },
  {
   "cell_type": "code",
   "execution_count": 91,
   "id": "9ef3a3b9",
   "metadata": {},
   "outputs": [
    {
     "data": {
      "text/plain": [
       "{'input': 'Looking for a modern 3-bedroom house around 2000 sqft with solar panels, a backyard, and located in a quiet neighborhood near public transit. Budget is around $600k.'}"
      ]
     },
     "execution_count": 91,
     "metadata": {},
     "output_type": "execute_result"
    }
   ],
   "source": [
    "#defining the user query cleaning chain\n",
    "query_cleaning_chain = query_cleaner_prompt | cleaning_llm | extract_query\n",
    "\n",
    "#testing the chain\n",
    "query_cleaning_chain.invoke(\n",
    "    {\"raw_query\": \"I'd like a modern 3-bedroom around 2000 sqft, solar panels, \"\n",
    "                  \"backyard, quiet neighborhood, near public transit. Budget about $600k.\"}\n",
    ")"
   ]
  },
  {
   "cell_type": "code",
   "execution_count": 92,
   "id": "65e01cbe",
   "metadata": {},
   "outputs": [],
   "source": [
    "#defining the rag prompt template\n",
    "from langchain_core.prompts import MessagesPlaceholder\n",
    "\n",
    "rag_prompt = ChatPromptTemplate.from_messages([\n",
    "    (\"system\",\n",
    "     \"\"\"You are HomeMatch, an expert real-estate assistant helping buyers find ideal homes based on their preferences.\n",
    "\n",
    "You will be given:\n",
    "- A structured summary of the buyer's preferences (in natural language)\n",
    "- A set of real estate listings (retrieved for semantic similarity)\n",
    "\n",
    "Your task:\n",
    "- Recommend the top 3 listings that best align with the buyer's needs\n",
    "- Highlight the matching features in your explanation (e.g., size, amenities, location)\n",
    "- Be concise, persuasive, and grounded in the listings provided\n",
    "\n",
    "Only use information found in the listings. Do not invent properties or add extra features.\n",
    "\n",
    "\"Listings:\\n{context}\",\n",
    "\"\"\"\n",
    "),\n",
    "    (\"human\", \"{input}\"),\n",
    "])\n"
   ]
  },
  {
   "cell_type": "code",
   "execution_count": null,
   "id": "eab55f61",
   "metadata": {},
   "outputs": [],
   "source": [
    "# ✨ NEW imports\n",
    "from langchain.chains.combine_documents import create_stuff_documents_chain\n",
    "from langchain.chains import create_retrieval_chain\n",
    "from langchain_core.runnables import RunnableLambda\n",
    "\n",
    "# 1️⃣  combine the retrieved docs + prompt + model\n",
    "combine_docs_chain = create_stuff_documents_chain(\n",
    "    llm=llm_groq,\n",
    "    prompt=rag_prompt          \n",
    ")\n",
    "\n",
    "# 2️⃣  wire the retriever and the doc-combining chain together\n",
    "rag_chain = create_retrieval_chain(\n",
    "    retriever=retriever,\n",
    "    combine_docs_chain=combine_docs_chain\n",
    ")\n",
    "\n",
    "full_chain = (query_cleaning_chain | rag_chain)\n"
   ]
  },
  {
   "cell_type": "code",
   "execution_count": 97,
   "id": "379393b4",
   "metadata": {},
   "outputs": [
    {
     "data": {
      "text/plain": [
       "{'input': 'A modern 3-bedroom house around 2000 sqft with solar panels, a backyard, and located near public transit in a quiet neighborhood with a budget of about $600k',\n",
       " 'context': [Document(metadata={'bedrooms': 4, 'price': 1250000, 'bathrooms': 3, 'house_size': '3500 sqft', 'neighborhood': 'Downtown Luxury'}, page_content=\"Welcome to this stunning, modern townhome located in the heart of Downtown Luxury. With its sleek, industrial-chic design, this property exudes sophistication and elegance. The open-concept living area is perfect for entertaining, with floor-to-ceiling windows offering breathtaking views of the city skyline. The gourmet kitchen features high-end appliances and ample counter space for food preparation. The master suite boasts a spa-like en-suite bathroom and a spacious walk-in closet. Two additional bedrooms and a bonus room offer ample space for relaxation and play. This property is a must-see for anyone looking to live in the epicenter of the city's vibrant cultural scene.\\n\\nDowntown Luxury is a vibrant and upscale neighborhood with a mix of old and new architecture. The area is known for its trendy restaurants, boutique shops, and lively nightlife. Residents enjoy easy access to public transportation, making it easy to explore the city without a car. The neighborhood also features several parks and green spaces, providing a peaceful escape from the hustle and bustle of city living.\"),\n",
       "  Document(metadata={'bedrooms': 4, 'bathrooms': 3, 'price': 425000, 'house_size': '2700 sqft', 'neighborhood': 'Riverview'}, page_content=\"Welcome to this stunning 4-bedroom, 3-bathroom home located in the desirable Riverview neighborhood. As you step inside, you'll be greeted by the warm and inviting open floor plan, perfect for entertaining guests. The spacious living room features a gas fireplace and large windows that let in an abundance of natural light. The kitchen is equipped with high-end appliances and ample counter space for food preparation. The master bedroom boasts a vaulted ceiling, walk-in closet, and en-suite bathroom with separate shower and tub. The backyard is a tranquil oasis, complete with a private patio and mature trees.\\n\\nRiverview is a charming neighborhood with a mix of established homes and new developments. Residents enjoy easy access to the nearby riverfront, where they can stroll along the trails or enjoy a picnic. The neighborhood is also within walking distance to local shops and restaurants, making it the perfect blend of small-town charm and urban convenience.\"),\n",
       "  Document(metadata={'bedrooms': 4, 'house_size': '2500 sqft', 'bathrooms': 2, 'neighborhood': 'Oakwood Hills', 'price': 425000}, page_content=\"Welcome to this beautifully maintained, ranch-style home in the highly sought-after Oakwood Hills neighborhood! With its charming curb appeal and lush landscaping, this property is sure to impress. Inside, you'll find a spacious open floor plan, perfect for entertaining, complete with a large living room, dining area, and modern kitchen. The master suite boasts a vaulted ceiling, walk-in closet, and en-suite bathroom. Three additional bedrooms and a laundry room complete the second floor. Enjoy the community pool and playground, as well as the convenient location near shopping and dining. This property is a must-see!\\n\\nOakwood Hills is a charming neighborhood located just west of downtown. Known for its tree-lined streets, playground, and community pool, this area is perfect for families and those looking for a quiet, suburban lifestyle. Residents enjoy easy access to nearby parks, shopping centers, and restaurants, making it the perfect blend of community and convenience.\"),\n",
       "  Document(metadata={'price': 425000, 'bedrooms': 4, 'house_size': '2400 sqft', 'bathrooms': 2, 'neighborhood': 'Fairview'}, page_content='Nestled in the heart of Fairview, this charming craftsman-style home boasts a warm and inviting atmosphere. The open-concept living area features soaring ceilings, large windows, and a cozy gas fireplace. The sleek and modern kitchen is equipped with high-end appliances and ample storage. The expansive master suite includes a spacious walk-in closet and an en-suite bathroom with separate shower and tub. The fully fenced backyard is perfect for outdoor entertaining and features a covered patio, lush greenery, and a sparkling saltwater pool.\\n\\nFairview is a highly sought-after neighborhood known for its vibrant community, excellent schools, and convenient access to downtown. Residents enjoy a short walk to the local park, playground, and community center. The neighborhood is also close to several popular restaurants, shops, and entertainment venues.')],\n",
       " 'answer': \"Based on your preferences for a modern 3-bedroom house around 2000 sqft with solar panels, a backyard, and convenient public transit in a quiet neighborhood,  here are the top 3 recommendations:\\n\\n1. **Riverview Home:** This 4-bedroom, 3-bathroom home in the desirable Riverview neighborhood comes closest to matching your criteria. While it's slightly larger than 2000 sqft, it offers a spacious living room, gas fireplace, large windows for natural light, high-end appliances, a master suite with a vaulted ceiling, walk-in closet, and en-suite bathroom, and a tranquil backyard with a private patio and mature trees. Riverview is described as a charming neighborhood with a mix of established homes and new developments, offering a balance of community and convenience. \\n\\n2. **Oakwood Hills Home:**  This ranch-style home in the sought-after Oakwood Hills neighborhood could be a great fit. It features a spacious open floor plan with a large living room, dining area, and modern kitchen, as well as a master suite with a vaulted ceiling, walk-in closet, and en-suite bathroom.  While the listing doesn't mention solar panels, it does highlight a community pool and playground, suggesting a family-friendly and active neighborhood.\\n\\n3. **Fairview Craftsman-Style Home:** This charming craftsman home in Fairview boasts a warm and inviting atmosphere with a spacious master suite, walk-in closet, and en-suite bathroom. Although the listing doesn't specify the square footage, the open-concept living area, soaring ceilings, and cozy gas fireplace suggest a comfortable and modern design.  Fairview is known for its vibrant community, excellent schools, and convenient access to downtown. The fully fenced backyard with a covered patio, lush greenery, and a sparkling saltwater pool could be a major selling point.\\n\\n\\n\\nRemember, these are just suggestions based on the provided information.  \\n\\n\"}"
      ]
     },
     "execution_count": 97,
     "metadata": {},
     "output_type": "execute_result"
    }
   ],
   "source": [
    "#invocation\n",
    "results = full_chain.invoke({\"raw_query\": \"I'd like a modern 3-bedroom around 2000 sqft, solar panels, \"\n",
    "                  \"backyard, quiet neighborhood, near public transit. Budget about $600k.\"})\n",
    "results"
   ]
  },
  {
   "cell_type": "code",
   "execution_count": 98,
   "id": "756b9005",
   "metadata": {},
   "outputs": [
    {
     "data": {
      "text/markdown": [
       "### 🏡 Top Matching Listings"
      ],
      "text/plain": [
       "<IPython.core.display.Markdown object>"
      ]
     },
     "metadata": {},
     "output_type": "display_data"
    },
    {
     "data": {
      "text/markdown": [
       "\n",
       "**Listing 1**\n",
       "- 📍 Neighborhood: `Downtown Luxury`\n",
       "- 🛏 Bedrooms: `4`\n",
       "- 🛁 Bathrooms: `3`\n",
       "- 📐 Size: `3500 sqft`\n",
       "- ☀️ Price: `$1,250,000`\n",
       "\n",
       "---\n"
      ],
      "text/plain": [
       "<IPython.core.display.Markdown object>"
      ]
     },
     "metadata": {},
     "output_type": "display_data"
    },
    {
     "data": {
      "text/markdown": [
       "\n",
       "**Listing 2**\n",
       "- 📍 Neighborhood: `Riverview`\n",
       "- 🛏 Bedrooms: `4`\n",
       "- 🛁 Bathrooms: `3`\n",
       "- 📐 Size: `2700 sqft`\n",
       "- ☀️ Price: `$425,000`\n",
       "\n",
       "---\n"
      ],
      "text/plain": [
       "<IPython.core.display.Markdown object>"
      ]
     },
     "metadata": {},
     "output_type": "display_data"
    },
    {
     "data": {
      "text/markdown": [
       "\n",
       "**Listing 3**\n",
       "- 📍 Neighborhood: `Oakwood Hills`\n",
       "- 🛏 Bedrooms: `4`\n",
       "- 🛁 Bathrooms: `2`\n",
       "- 📐 Size: `2500 sqft`\n",
       "- ☀️ Price: `$425,000`\n",
       "\n",
       "---\n"
      ],
      "text/plain": [
       "<IPython.core.display.Markdown object>"
      ]
     },
     "metadata": {},
     "output_type": "display_data"
    },
    {
     "data": {
      "text/markdown": [
       "\n",
       "**Listing 4**\n",
       "- 📍 Neighborhood: `Fairview`\n",
       "- 🛏 Bedrooms: `4`\n",
       "- 🛁 Bathrooms: `2`\n",
       "- 📐 Size: `2400 sqft`\n",
       "- ☀️ Price: `$425,000`\n",
       "\n",
       "---\n"
      ],
      "text/plain": [
       "<IPython.core.display.Markdown object>"
      ]
     },
     "metadata": {},
     "output_type": "display_data"
    },
    {
     "data": {
      "text/markdown": [
       "### 🤖 AI Summary"
      ],
      "text/plain": [
       "<IPython.core.display.Markdown object>"
      ]
     },
     "metadata": {},
     "output_type": "display_data"
    },
    {
     "data": {
      "text/markdown": [
       "> Based on your preferences for a modern 3-bedroom house around 2000 sqft with solar panels, a backyard, and convenient public transit in a quiet neighborhood,  here are the top 3 recommendations:\n",
       "\n",
       "1. **Riverview Home:** This 4-bedroom, 3-bathroom home in the desirable Riverview neighborhood comes closest to matching your criteria. While it's slightly larger than 2000 sqft, it offers a spacious living room, gas fireplace, large windows for natural light, high-end appliances, a master suite with a vaulted ceiling, walk-in closet, and en-suite bathroom, and a tranquil backyard with a private patio and mature trees. Riverview is described as a charming neighborhood with a mix of established homes and new developments, offering a balance of community and convenience. \n",
       "\n",
       "2. **Oakwood Hills Home:**  This ranch-style home in the sought-after Oakwood Hills neighborhood could be a great fit. It features a spacious open floor plan with a large living room, dining area, and modern kitchen, as well as a master suite with a vaulted ceiling, walk-in closet, and en-suite bathroom.  While the listing doesn't mention solar panels, it does highlight a community pool and playground, suggesting a family-friendly and active neighborhood.\n",
       "\n",
       "3. **Fairview Craftsman-Style Home:** This charming craftsman home in Fairview boasts a warm and inviting atmosphere with a spacious master suite, walk-in closet, and en-suite bathroom. Although the listing doesn't specify the square footage, the open-concept living area, soaring ceilings, and cozy gas fireplace suggest a comfortable and modern design.  Fairview is known for its vibrant community, excellent schools, and convenient access to downtown. The fully fenced backyard with a covered patio, lush greenery, and a sparkling saltwater pool could be a major selling point.\n",
       "\n",
       "\n",
       "\n",
       "Remember, these are just suggestions based on the provided information.  \n",
       "\n"
      ],
      "text/plain": [
       "<IPython.core.display.Markdown object>"
      ]
     },
     "metadata": {},
     "output_type": "display_data"
    }
   ],
   "source": [
    "#nice display of the results\n",
    "from IPython.display import display, Markdown\n",
    "\n",
    "def render_results(results):\n",
    "    display(Markdown(\"### 🏡 Top Matching Listings\"))\n",
    "    \n",
    "    for i, doc in enumerate(results[\"context\"], start=1):\n",
    "        meta = doc.metadata\n",
    "        card = f\"\"\"\n",
    "**Listing {i}**\n",
    "- 📍 Neighborhood: `{meta.get('neighborhood', 'N/A')}`\n",
    "- 🛏 Bedrooms: `{meta.get('bedrooms', 'N/A')}`\n",
    "- 🛁 Bathrooms: `{meta.get('bathrooms', 'N/A')}`\n",
    "- 📐 Size: `{meta.get('house_size', 'N/A')}`\n",
    "- ☀️ Price: `${meta.get('price', 'N/A'):,}`\n",
    "\n",
    "---\n",
    "\"\"\"\n",
    "        display(Markdown(card))\n",
    "\n",
    "    display(Markdown(\"### 🤖 AI Summary\"))\n",
    "    display(Markdown(f\"> {results['answer']}\"))\n",
    "\n",
    "render_results(results)"
   ]
  },
  {
   "cell_type": "code",
   "execution_count": null,
   "id": "9d467745",
   "metadata": {},
   "outputs": [],
   "source": []
  }
 ],
 "metadata": {
  "kernelspec": {
   "display_name": ".venv",
   "language": "python",
   "name": "python3"
  },
  "language_info": {
   "codemirror_mode": {
    "name": "ipython",
    "version": 3
   },
   "file_extension": ".py",
   "mimetype": "text/x-python",
   "name": "python",
   "nbconvert_exporter": "python",
   "pygments_lexer": "ipython3",
   "version": "3.11.12"
  }
 },
 "nbformat": 4,
 "nbformat_minor": 5
}
